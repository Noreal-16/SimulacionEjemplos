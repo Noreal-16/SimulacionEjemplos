{
 "cells": [
  {
   "cell_type": "code",
   "execution_count": 1,
   "metadata": {},
   "outputs": [],
   "source": [
    "import seaborn as sns\n",
    "import numpy as np\n",
    "from numpy import random"
   ]
  },
  {
   "cell_type": "code",
   "execution_count": 15,
   "metadata": {},
   "outputs": [],
   "source": [
    "def expecial(Lambda):\n",
    "    U = random.rand()\n",
    "    return -1 *(math.log(1-U)/Lambda)"
   ]
  },
  {
   "cell_type": "code",
   "execution_count": null,
   "metadata": {},
   "outputs": [],
   "source": [
    "#nueva formula\n",
    "def expo_dis2(Lambda,U):\n",
    "    return -1*(math.log(1-U)/Lambda)"
   ]
  },
  {
   "cell_type": "code",
   "execution_count": null,
   "metadata": {},
   "outputs": [],
   "source": [
    "#nueva formula\n",
    "def weibull(alpha,beta):\n",
    "    U = random.rand()\n",
    "    return (alpha *(math.pow(math.log(1-U)),1/beta))*-1"
   ]
  },
  {
   "cell_type": "code",
   "execution_count": 16,
   "metadata": {},
   "outputs": [],
   "source": [
    "x = expecial(0.5)"
   ]
  },
  {
   "cell_type": "code",
   "execution_count": 17,
   "metadata": {},
   "outputs": [
    {
     "name": "stdout",
     "output_type": "stream",
     "text": [
      "3.11564127574196\n"
     ]
    }
   ],
   "source": [
    "print(x)"
   ]
  },
  {
   "cell_type": "markdown",
   "metadata": {},
   "source": [
    "El tiempo entre arribos de los clientes que entran a una tienda puede ser descrito por una distribucion exponencial cm media de 8 minutos.Simule el arribo de 10 clientes a la tienda.Use un porceso generador exponencial\n"
   ]
  },
  {
   "cell_type": "code",
   "execution_count": 50,
   "metadata": {},
   "outputs": [],
   "source": [
    "Land = 60/8 #hora/cliente"
   ]
  },
  {
   "cell_type": "code",
   "execution_count": 51,
   "metadata": {},
   "outputs": [
    {
     "name": "stdout",
     "output_type": "stream",
     "text": [
      "7.5\n"
     ]
    }
   ],
   "source": [
    "print(Land)"
   ]
  },
  {
   "cell_type": "code",
   "execution_count": 52,
   "metadata": {},
   "outputs": [],
   "source": [
    "X = list()"
   ]
  },
  {
   "cell_type": "code",
   "execution_count": 53,
   "metadata": {},
   "outputs": [
    {
     "name": "stdout",
     "output_type": "stream",
     "text": [
      "Clientes 0 - Tiempo 0.023733950379801028\n",
      "Clientes 1 - Tiempo 0.34080614471577025\n",
      "Clientes 2 - Tiempo 0.17782860611350018\n",
      "Clientes 3 - Tiempo 0.0507293467963005\n",
      "Clientes 4 - Tiempo 0.24615515897345738\n",
      "Clientes 5 - Tiempo 0.007523453263273549\n",
      "Clientes 6 - Tiempo 0.04614915734375791\n",
      "Clientes 7 - Tiempo 0.23424092258709278\n",
      "Clientes 8 - Tiempo 0.0007245414778012375\n",
      "Clientes 9 - Tiempo 0.05758410731533965\n"
     ]
    }
   ],
   "source": [
    "for i in range(0,10):\n",
    "    X_i = expecial(Land)\n",
    "    X.append(X_i *60)\n",
    "    print(\"Clientes %s - Tiempo %s\"%(i,X_i))"
   ]
  },
  {
   "cell_type": "code",
   "execution_count": 54,
   "metadata": {},
   "outputs": [
    {
     "name": "stdout",
     "output_type": "stream",
     "text": [
      "[1.4240370227880617, 20.448368682946214, 10.669716366810011, 3.04376080777803, 14.769309538407443, 0.4514071957964129, 2.7689494406254744, 14.054455355225567, 0.043472488668074245, 3.455046438920379]\n"
     ]
    }
   ],
   "source": [
    "print(X)"
   ]
  },
  {
   "cell_type": "code",
   "execution_count": 55,
   "metadata": {},
   "outputs": [],
   "source": [
    "#me representa los clietnes que llegan a la tienda\n",
    "rango = np.arange(0,10,1)\n",
    "X.sort()"
   ]
  },
  {
   "cell_type": "code",
   "execution_count": 48,
   "metadata": {},
   "outputs": [
    {
     "data": {
      "text/plain": [
       "<matplotlib.axes._subplots.AxesSubplot at 0x7f061db4bb10>"
      ]
     },
     "execution_count": 48,
     "metadata": {},
     "output_type": "execute_result"
    },
    {
     "data": {
      "image/png": "[encoded data removed]",
      "text/plain": [
       "<Figure size 432x288 with 1 Axes>"
      ]
     },
     "metadata": {
      "needs_background": "light"
     },
     "output_type": "display_data"
    }
   ],
   "source": [
    "#LA VARIABLE X ME GUARDO LA LISTA DE LOS DATOS GENERADOS\n",
    "sns.lineplot(x=rango,y=X)"
   ]
  },
  {
   "cell_type": "code",
   "execution_count": 80,
   "metadata": {},
   "outputs": [],
   "source": [
    "Lan = 1/100 #hora de seman /horas de trabajo "
   ]
  },
  {
   "cell_type": "code",
   "execution_count": 81,
   "metadata": {},
   "outputs": [
    {
     "name": "stdout",
     "output_type": "stream",
     "text": [
      "0.01\n"
     ]
    }
   ],
   "source": [
    "print(Lan)"
   ]
  },
  {
   "cell_type": "code",
   "execution_count": 82,
   "metadata": {},
   "outputs": [],
   "source": [
    "Horas = list()"
   ]
  },
  {
   "cell_type": "code",
   "execution_count": 83,
   "metadata": {},
   "outputs": [
    {
     "name": "stdout",
     "output_type": "stream",
     "text": [
      "Fallas 0 - horas 71.66579897302516\n",
      "Fallas 1 - horas 56.30528664271136\n",
      "Fallas 2 - horas 36.46823732104012\n",
      "Fallas 3 - horas 1.8379847872843111\n",
      "Fallas 4 - horas 63.18049705029398\n"
     ]
    }
   ],
   "source": [
    "for i in range(0,5):\n",
    "    X_i = expecial(Lan)\n",
    "    Horas.append(X_i *1)\n",
    "    print(\"Fallas %s - horas %s\"%(i,X_i))"
   ]
  },
  {
   "cell_type": "code",
   "execution_count": 84,
   "metadata": {},
   "outputs": [
    {
     "name": "stdout",
     "output_type": "stream",
     "text": [
      "[71.66579897302516, 56.30528664271136, 36.46823732104012, 1.8379847872843111, 63.18049705029398]\n"
     ]
    }
   ],
   "source": [
    "print(Horas)"
   ]
  }
 ],
 "metadata": {
  "kernelspec": {
   "display_name": "Python 3",
   "language": "python",
   "name": "python3"
  },
  "language_info": {
   "codemirror_mode": {
    "name": "ipython",
    "version": 3
   },
   "file_extension": ".py",
   "mimetype": "text/x-python",
   "name": "python",
   "nbconvert_exporter": "python",
   "pygments_lexer": "ipython3",
   "version": "3.7.6"
  }
 },
 "nbformat": 4,
 "nbformat_minor": 4
}

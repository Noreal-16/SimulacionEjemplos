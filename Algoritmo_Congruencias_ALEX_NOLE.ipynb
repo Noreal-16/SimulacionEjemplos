{
 "cells": [
  {
   "cell_type": "code",
   "execution_count": 1,
   "metadata": {},
   "outputs": [],
   "source": [
    "import random"
   ]
  },
  {
   "cell_type": "code",
   "execution_count": 30,
   "metadata": {},
   "outputs": [],
   "source": [
    "x0 = 6 #semilla\n",
    "a  = 5\n",
    "b  = 2\n",
    "m  = 16 #Valor "
   ]
  },
  {
   "cell_type": "code",
   "execution_count": 31,
   "metadata": {},
   "outputs": [
    {
     "name": "stdout",
     "output_type": "stream",
     "text": [
      "Xn====> 0  Un====>  0.8125\n",
      "Xn====> 2  Un====>  0.8125\n",
      "Xn====> 12  Un====>  0.8125\n",
      "Xn====> 14  Un====>  0.8125\n",
      "Xn====> 8  Un====>  0.8125\n",
      "Xn====> 10  Un====>  0.8125\n",
      "Xn====> 4  Un====>  0.8125\n",
      "Xn====> 6  Un====>  0.8125\n",
      "Xn====> 0  Un====>  0.8125\n",
      "Xn====> 2  Un====>  0.8125\n",
      "Xn====> 12  Un====>  0.8125\n",
      "Xn====> 14  Un====>  0.8125\n",
      "Xn====> 8  Un====>  0.8125\n",
      "Xn====> 10  Un====>  0.8125\n",
      "Xn====> 4  Un====>  0.8125\n",
      "Xn====> 6  Un====>  0.8125\n",
      "Xn====> 0  Un====>  0.8125\n",
      "Xn====> 2  Un====>  0.8125\n",
      "Xn====> 12  Un====>  0.8125\n",
      "Xn====> 14  Un====>  0.8125\n",
      "Xn====> 8  Un====>  0.8125\n",
      "Xn====> 10  Un====>  0.8125\n",
      "Xn====> 4  Un====>  0.8125\n",
      "Xn====> 6  Un====>  0.8125\n",
      "Xn====> 0  Un====>  0.8125\n",
      "Xn====> 2  Un====>  0.8125\n",
      "Xn====> 12  Un====>  0.8125\n",
      "Xn====> 14  Un====>  0.8125\n",
      "Xn====> 8  Un====>  0.8125\n",
      "Xn====> 10  Un====>  0.8125\n"
     ]
    }
   ],
   "source": [
    "for i in range(30):\n",
    "    xn=(((a*x0)+b)%m)\n",
    "    un=xn/m\n",
    "    print(\"Xn====> \"+ str(xn), \" Un====>  \"+str(val))\n",
    "    x0 = xn\n",
    "    "
   ]
  }
 ],
 "metadata": {
  "kernelspec": {
   "display_name": "Python 3",
   "language": "python",
   "name": "python3"
  },
  "language_info": {
   "codemirror_mode": {
    "name": "ipython",
    "version": 3
   },
   "file_extension": ".py",
   "mimetype": "text/x-python",
   "name": "python",
   "nbconvert_exporter": "python",
   "pygments_lexer": "ipython3",
   "version": "3.7.3"
  }
 },
 "nbformat": 4,
 "nbformat_minor": 4
}

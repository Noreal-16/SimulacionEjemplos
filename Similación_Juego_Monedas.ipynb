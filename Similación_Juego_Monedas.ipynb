{
 "cells": [
  {
   "cell_type": "code",
   "execution_count": 13,
   "metadata": {},
   "outputs": [],
   "source": [
    "import numpy as np\n",
    "from numpy import random as rnd\n",
    "import math\n",
    "import seaborn as sns"
   ]
  },
  {
   "cell_type": "markdown",
   "metadata": {},
   "source": [
    "Generación de números aleatorios"
   ]
  },
  {
   "cell_type": "code",
   "execution_count": 30,
   "metadata": {},
   "outputs": [],
   "source": [
    "jug1 = 1 #Cara\n",
    "jug2 = 0 #Sello\n",
    "Santiago = 1\n",
    "Alex = 0"
   ]
  },
  {
   "cell_type": "code",
   "execution_count": 15,
   "metadata": {},
   "outputs": [],
   "source": [
    "def gen_num():\n",
    "    return rnd.random()"
   ]
  },
  {
   "cell_type": "code",
   "execution_count": 16,
   "metadata": {},
   "outputs": [],
   "source": [
    "Santiago = gen_num()\n",
    "Alex = abs(Santiago-1)"
   ]
  },
  {
   "cell_type": "code",
   "execution_count": 31,
   "metadata": {},
   "outputs": [],
   "source": [
    "def get_label(X):\n",
    "    if X>0 and X<=0.5:\n",
    "        return 0\n",
    "    else:\n",
    "        return 1"
   ]
  },
  {
   "cell_type": "code",
   "execution_count": 28,
   "metadata": {},
   "outputs": [
    {
     "name": "stdout",
     "output_type": "stream",
     "text": [
      "Win   lanzamientos 50 =  50,  prob 1.0\n",
      "Loss  lanzamientos 50 =  0,  prob 0.0\n"
     ]
    }
   ],
   "source": [
    "win  = 0\n",
    "loss = 0\n",
    "Matriz50 = np.zeros((50,5))\n",
    "for i in range(50):\n",
    "    Matriz50[i,0] = get_label(gen_num())\n",
    "    Matriz50[i,1] = get_label(gen_num())\n",
    "    Matriz50[i,2] = get_label(gen_num()) \n",
    "    \n",
    "for i in range(50):\n",
    "        if Matriz50[i,0] == Matriz50[i,1]  or Matriz50[i,1]== Matriz50[i,2] or Matriz50[i,0]== Matriz50[i,2]:\n",
    "            win = win + 1\n",
    "            if Matriz50[i,0] == jug1:\n",
    "                Matriz50[i,3] = 1 #Santiago\n",
    "                Matriz50[i,4] = 0 #Alex\n",
    "            else:\n",
    "                Matriz50[i,3] = 0\n",
    "                Matriz50[i,4] = 1   \n",
    "        else:\n",
    "            loss = loss + 1\n",
    "            \n",
    "print(\"Win   lanzamientos 50 =  %s,  prob %s\"  % (win, win/50))\n",
    "print(\"Loss  lanzamientos 50 =  %s,  prob %s\"  % (loss, loss/50))"
   ]
  },
  {
   "cell_type": "code",
   "execution_count": 29,
   "metadata": {},
   "outputs": [
    {
     "data": {
      "text/plain": [
       "array([[0., 1., 0., 0., 1.],\n",
       "       [1., 1., 1., 1., 0.],\n",
       "       [0., 1., 0., 0., 1.],\n",
       "       [0., 1., 0., 0., 1.],\n",
       "       [0., 0., 1., 0., 1.],\n",
       "       [1., 1., 1., 1., 0.],\n",
       "       [0., 0., 0., 0., 1.],\n",
       "       [0., 1., 0., 0., 1.],\n",
       "       [1., 0., 0., 1., 0.],\n",
       "       [1., 0., 0., 1., 0.],\n",
       "       [1., 1., 1., 1., 0.],\n",
       "       [1., 1., 1., 1., 0.],\n",
       "       [1., 0., 1., 1., 0.],\n",
       "       [0., 1., 0., 0., 1.],\n",
       "       [1., 1., 1., 1., 0.],\n",
       "       [0., 1., 0., 0., 1.],\n",
       "       [0., 0., 0., 0., 1.],\n",
       "       [0., 1., 0., 0., 1.],\n",
       "       [0., 1., 0., 0., 1.],\n",
       "       [0., 0., 1., 0., 1.],\n",
       "       [1., 0., 1., 1., 0.],\n",
       "       [1., 1., 1., 1., 0.],\n",
       "       [0., 0., 1., 0., 1.],\n",
       "       [1., 1., 0., 1., 0.],\n",
       "       [1., 1., 0., 1., 0.],\n",
       "       [1., 1., 1., 1., 0.],\n",
       "       [0., 1., 0., 0., 1.],\n",
       "       [0., 1., 0., 0., 1.],\n",
       "       [1., 1., 1., 1., 0.],\n",
       "       [0., 1., 1., 0., 1.],\n",
       "       [1., 1., 1., 1., 0.],\n",
       "       [0., 0., 1., 0., 1.],\n",
       "       [0., 0., 1., 0., 1.],\n",
       "       [0., 1., 0., 0., 1.],\n",
       "       [0., 1., 0., 0., 1.],\n",
       "       [1., 1., 1., 1., 0.],\n",
       "       [1., 0., 0., 1., 0.],\n",
       "       [1., 0., 1., 1., 0.],\n",
       "       [0., 1., 1., 0., 1.],\n",
       "       [1., 1., 1., 1., 0.],\n",
       "       [1., 1., 0., 1., 0.],\n",
       "       [0., 0., 0., 0., 1.],\n",
       "       [1., 0., 0., 1., 0.],\n",
       "       [1., 1., 0., 1., 0.],\n",
       "       [1., 0., 1., 1., 0.],\n",
       "       [0., 0., 0., 0., 1.],\n",
       "       [0., 0., 1., 0., 1.],\n",
       "       [0., 0., 1., 0., 1.],\n",
       "       [0., 0., 0., 0., 1.],\n",
       "       [1., 1., 1., 1., 0.]])"
      ]
     },
     "execution_count": 29,
     "metadata": {},
     "output_type": "execute_result"
    }
   ],
   "source": [
    "Matriz50"
   ]
  },
  {
   "cell_type": "markdown",
   "metadata": {},
   "source": [
    "0 1 0 Alex\n",
    "0 1 1 Santiago"
   ]
  },
  {
   "cell_type": "code",
   "execution_count": 9,
   "metadata": {},
   "outputs": [
    {
     "name": "stdout",
     "output_type": "stream",
     "text": [
      "Win   lanzamientos 100 =  80,  prob 0.8\n",
      "Loss  lanzamientos 100 =  20,  prob 0.2\n"
     ]
    }
   ],
   "source": [
    "win  = 0\n",
    "loss = 0\n",
    "Matriz100 = np.zeros((100,3))\n",
    "for i in range(100):\n",
    "    Matriz100[i,0] = get_label(gen_num())\n",
    "    Matriz100[i,1] = get_label(gen_num())\n",
    "    Matriz100[i,2] = get_label(gen_num()) \n",
    "    \n",
    "for i in range(100):\n",
    "        if Matriz100[i,0]==Matriz100[i,1] or Matriz100[i,1]==Matriz100[i,2]:\n",
    "            win = win + 1\n",
    "        else:\n",
    "            loss = loss + 1\n",
    "print(\"Win   lanzamientos 100 =  %s,  prob %s\"  % (win, win/100))\n",
    "print(\"Loss  lanzamientos 100 =  %s,  prob %s\"  % (loss, loss/100))"
   ]
  },
  {
   "cell_type": "code",
   "execution_count": null,
   "metadata": {},
   "outputs": [],
   "source": []
  },
  {
   "cell_type": "code",
   "execution_count": 11,
   "metadata": {},
   "outputs": [
    {
     "name": "stdout",
     "output_type": "stream",
     "text": [
      "Win   lanzamientos 100 =  83,  prob 0.83\n",
      "Loss  lanzamientos 100 =  17,  prob 0.17\n"
     ]
    }
   ],
   "source": [
    "win  = 0\n",
    "loss = 0\n",
    "Matriz150 = np.zeros((150,3))\n",
    "for i in range(150):\n",
    "    Matriz150[i,0] = get_label(gen_num())\n",
    "    Matriz150[i,1] = get_label(gen_num())\n",
    "    Matriz150[i,2] = get_label(gen_num()) \n",
    "\n",
    "for i in range(100):\n",
    "        if Matriz150[i,0]==Matriz150[i,1] or Matriz150[i,1]==Matriz150[i,2]:\n",
    "            win = win + 1\n",
    "        else:\n",
    "            loss = loss + 1\n",
    "print(\"Win   lanzamientos 100 =  %s,  prob %s\"  % (win, win/100))\n",
    "print(\"Loss  lanzamientos 100 =  %s,  prob %s\"  % (loss, loss/100))"
   ]
  }
 ],
 "metadata": {
  "kernelspec": {
   "display_name": "Python 3",
   "language": "python",
   "name": "python3"
  },
  "language_info": {
   "codemirror_mode": {
    "name": "ipython",
    "version": 3
   },
   "file_extension": ".py",
   "mimetype": "text/x-python",
   "name": "python",
   "nbconvert_exporter": "python",
   "pygments_lexer": "ipython3",
   "version": "3.7.6"
  }
 },
 "nbformat": 4,
 "nbformat_minor": 4
}

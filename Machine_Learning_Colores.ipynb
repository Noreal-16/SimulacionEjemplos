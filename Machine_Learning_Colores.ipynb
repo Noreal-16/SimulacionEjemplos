{
 "cells": [
  {
   "cell_type": "code",
   "execution_count": 49,
   "metadata": {},
   "outputs": [],
   "source": [
    "from sklearn import svm #importación de libreria de machine learning\n",
    "import pandas as pd\n",
    "import numpy as np"
   ]
  },
  {
   "cell_type": "markdown",
   "metadata": {},
   "source": [
    "Abrir archivos que contienen la información para entrenamiento"
   ]
  },
  {
   "cell_type": "code",
   "execution_count": 50,
   "metadata": {},
   "outputs": [],
   "source": [
    "Xp = pd.read_csv('X', delimiter=\";\")\n",
    "Yp = pd.read_csv('Y', delimiter=\";\")"
   ]
  },
  {
   "cell_type": "code",
   "execution_count": 56,
   "metadata": {},
   "outputs": [
    {
     "data": {
      "text/html": [
       "<div>\n",
       "<style scoped>\n",
       "    .dataframe tbody tr th:only-of-type {\n",
       "        vertical-align: middle;\n",
       "    }\n",
       "\n",
       "    .dataframe tbody tr th {\n",
       "        vertical-align: top;\n",
       "    }\n",
       "\n",
       "    .dataframe thead th {\n",
       "        text-align: right;\n",
       "    }\n",
       "</style>\n",
       "<table border=\"1\" class=\"dataframe\">\n",
       "  <thead>\n",
       "    <tr style=\"text-align: right;\">\n",
       "      <th></th>\n",
       "      <th>COD</th>\n",
       "    </tr>\n",
       "  </thead>\n",
       "  <tbody>\n",
       "    <tr>\n",
       "      <th>0</th>\n",
       "      <td>1</td>\n",
       "    </tr>\n",
       "    <tr>\n",
       "      <th>1</th>\n",
       "      <td>2</td>\n",
       "    </tr>\n",
       "    <tr>\n",
       "      <th>2</th>\n",
       "      <td>2</td>\n",
       "    </tr>\n",
       "    <tr>\n",
       "      <th>3</th>\n",
       "      <td>3</td>\n",
       "    </tr>\n",
       "    <tr>\n",
       "      <th>4</th>\n",
       "      <td>3</td>\n",
       "    </tr>\n",
       "  </tbody>\n",
       "</table>\n",
       "</div>"
      ],
      "text/plain": [
       "   COD\n",
       "0    1\n",
       "1    2\n",
       "2    2\n",
       "3    3\n",
       "4    3"
      ]
     },
     "execution_count": 56,
     "metadata": {},
     "output_type": "execute_result"
    }
   ],
   "source": [
    "Yp.head()"
   ]
  },
  {
   "cell_type": "code",
   "execution_count": 57,
   "metadata": {},
   "outputs": [
    {
     "data": {
      "text/html": [
       "<div>\n",
       "<style scoped>\n",
       "    .dataframe tbody tr th:only-of-type {\n",
       "        vertical-align: middle;\n",
       "    }\n",
       "\n",
       "    .dataframe tbody tr th {\n",
       "        vertical-align: top;\n",
       "    }\n",
       "\n",
       "    .dataframe thead th {\n",
       "        text-align: right;\n",
       "    }\n",
       "</style>\n",
       "<table border=\"1\" class=\"dataframe\">\n",
       "  <thead>\n",
       "    <tr style=\"text-align: right;\">\n",
       "      <th></th>\n",
       "      <th>C1</th>\n",
       "      <th>C2</th>\n",
       "      <th>C3</th>\n",
       "    </tr>\n",
       "  </thead>\n",
       "  <tbody>\n",
       "    <tr>\n",
       "      <th>0</th>\n",
       "      <td>0.988296</td>\n",
       "      <td>0.887982</td>\n",
       "      <td>0.647662</td>\n",
       "    </tr>\n",
       "    <tr>\n",
       "      <th>1</th>\n",
       "      <td>0.429777</td>\n",
       "      <td>0.774242</td>\n",
       "      <td>0.467676</td>\n",
       "    </tr>\n",
       "    <tr>\n",
       "      <th>2</th>\n",
       "      <td>0.007227</td>\n",
       "      <td>0.728114</td>\n",
       "      <td>0.441992</td>\n",
       "    </tr>\n",
       "    <tr>\n",
       "      <th>3</th>\n",
       "      <td>0.315995</td>\n",
       "      <td>0.649296</td>\n",
       "      <td>0.637272</td>\n",
       "    </tr>\n",
       "    <tr>\n",
       "      <th>4</th>\n",
       "      <td>0.725780</td>\n",
       "      <td>0.324291</td>\n",
       "      <td>0.022826</td>\n",
       "    </tr>\n",
       "  </tbody>\n",
       "</table>\n",
       "</div>"
      ],
      "text/plain": [
       "         C1        C2        C3\n",
       "0  0.988296  0.887982  0.647662\n",
       "1  0.429777  0.774242  0.467676\n",
       "2  0.007227  0.728114  0.441992\n",
       "3  0.315995  0.649296  0.637272\n",
       "4  0.725780  0.324291  0.022826"
      ]
     },
     "execution_count": 57,
     "metadata": {},
     "output_type": "execute_result"
    }
   ],
   "source": [
    "Xp.head()"
   ]
  },
  {
   "cell_type": "code",
   "execution_count": 59,
   "metadata": {},
   "outputs": [],
   "source": [
    "X= np.zeros((50,3))\n",
    "Y= np.zeros((50,3))"
   ]
  },
  {
   "cell_type": "code",
   "execution_count": 60,
   "metadata": {},
   "outputs": [
    {
     "data": {
      "text/plain": [
       "array([[0.98829562, 0.88798206, 0.64766198],\n",
       "       [0.42977716, 0.77424222, 0.46767635],\n",
       "       [0.00722712, 0.72811441, 0.44199196],\n",
       "       [0.31599465, 0.64929601, 0.63727242],\n",
       "       [0.72577992, 0.32429099, 0.02282576],\n",
       "       [0.09062185, 0.84873545, 0.07433727],\n",
       "       [0.1867473 , 0.48246158, 0.89774317],\n",
       "       [0.53047284, 0.57633295, 0.72544889],\n",
       "       [0.06268501, 0.30668343, 0.95598187],\n",
       "       [0.11087958, 0.47031782, 0.63852267],\n",
       "       [0.77744742, 0.67253193, 0.01589405],\n",
       "       [0.3392035 , 0.35100825, 0.04482766],\n",
       "       [0.54973304, 0.69985096, 0.20681041],\n",
       "       [0.12735229, 0.01130309, 0.50582208],\n",
       "       [0.77458529, 0.22031595, 0.61997578],\n",
       "       [0.08416211, 0.04217386, 0.67932524],\n",
       "       [0.02946513, 0.57168092, 0.16676493],\n",
       "       [0.55287543, 0.43206639, 0.39879743],\n",
       "       [0.10748141, 0.11226164, 0.95916043],\n",
       "       [0.32121347, 0.22392523, 0.66114609],\n",
       "       [0.36605135, 0.19964318, 0.44251794],\n",
       "       [0.52080886, 0.91205653, 0.12723775],\n",
       "       [0.03095077, 0.62714691, 0.55086976],\n",
       "       [0.43500951, 0.24078448, 0.74677677],\n",
       "       [0.03157001, 0.56747333, 0.0792159 ],\n",
       "       [0.92213439, 0.2772494 , 0.81388727],\n",
       "       [0.25325425, 0.38925515, 0.45608612],\n",
       "       [0.40488906, 0.89302779, 0.87695574],\n",
       "       [0.48878899, 0.53998805, 0.00566655],\n",
       "       [0.89242917, 0.34669255, 0.49828742],\n",
       "       [0.73718504, 0.32580281, 0.38638256],\n",
       "       [0.10297451, 0.42701411, 0.46499852],\n",
       "       [0.13958368, 0.45953209, 0.12830822],\n",
       "       [0.30227325, 0.43114262, 0.06828671],\n",
       "       [0.73688104, 0.83510705, 0.43329149],\n",
       "       [0.12382478, 0.12259873, 0.91664507],\n",
       "       [0.28097785, 0.05697101, 0.68928667],\n",
       "       [0.09468877, 0.17089926, 0.14943762],\n",
       "       [0.60268216, 0.7932707 , 0.44598193],\n",
       "       [0.3569175 , 0.52069227, 0.13713661],\n",
       "       [0.02739454, 0.3133074 , 0.03619219],\n",
       "       [0.69699705, 0.69778972, 0.85691262],\n",
       "       [0.1998265 , 0.44220037, 0.16231757],\n",
       "       [0.31889778, 0.42875172, 0.22751768],\n",
       "       [0.51805683, 0.2449126 , 0.82698599],\n",
       "       [0.21201958, 0.74786117, 0.18273595],\n",
       "       [0.44400699, 0.71056331, 0.12121916],\n",
       "       [0.6619448 , 0.28046726, 0.11219826],\n",
       "       [0.93257881, 0.51602982, 0.91337129],\n",
       "       [0.66483695, 0.83668829, 0.25304227]])"
      ]
     },
     "execution_count": 60,
     "metadata": {},
     "output_type": "execute_result"
    }
   ],
   "source": [
    "X = Xp.values #Para convertir en arreglos \n",
    "X.reshape(50,3)"
   ]
  },
  {
   "cell_type": "code",
   "execution_count": 62,
   "metadata": {},
   "outputs": [
    {
     "data": {
      "text/plain": [
       "array([[1],\n",
       "       [2],\n",
       "       [2],\n",
       "       [3],\n",
       "       [3],\n",
       "       [2],\n",
       "       [2],\n",
       "       [1],\n",
       "       [1],\n",
       "       [3],\n",
       "       [1],\n",
       "       [1],\n",
       "       [2],\n",
       "       [1],\n",
       "       [2],\n",
       "       [1],\n",
       "       [2],\n",
       "       [1],\n",
       "       [1],\n",
       "       [1],\n",
       "       [2],\n",
       "       [2],\n",
       "       [3],\n",
       "       [2],\n",
       "       [2],\n",
       "       [2],\n",
       "       [3],\n",
       "       [3],\n",
       "       [1],\n",
       "       [3],\n",
       "       [2],\n",
       "       [3],\n",
       "       [2],\n",
       "       [2],\n",
       "       [1],\n",
       "       [1],\n",
       "       [1],\n",
       "       [1],\n",
       "       [2],\n",
       "       [1],\n",
       "       [1],\n",
       "       [1],\n",
       "       [2],\n",
       "       [2],\n",
       "       [2],\n",
       "       [2],\n",
       "       [2],\n",
       "       [3],\n",
       "       [2],\n",
       "       [1]])"
      ]
     },
     "execution_count": 62,
     "metadata": {},
     "output_type": "execute_result"
    }
   ],
   "source": [
    "Y = Yp.values\n",
    "Y.reshape(50,1)"
   ]
  },
  {
   "cell_type": "code",
   "execution_count": 63,
   "metadata": {},
   "outputs": [],
   "source": [
    "regr = svm.SVR()"
   ]
  },
  {
   "cell_type": "code",
   "execution_count": 65,
   "metadata": {},
   "outputs": [
    {
     "data": {
      "text/plain": [
       "SVR()"
      ]
     },
     "execution_count": 65,
     "metadata": {},
     "output_type": "execute_result"
    }
   ],
   "source": [
    "regr.fit(X.reshape(50,3),Y.reshape(50))"
   ]
  },
  {
   "cell_type": "code",
   "execution_count": 66,
   "metadata": {},
   "outputs": [
    {
     "data": {
      "text/plain": [
       "array([2.58609001])"
      ]
     },
     "execution_count": 66,
     "metadata": {},
     "output_type": "execute_result"
    }
   ],
   "source": [
    "regr.predict([[0.2499854505,0.7031572628,0.3994415088]])"
   ]
  }
 ],
 "metadata": {
  "kernelspec": {
   "display_name": "Python 3",
   "language": "python",
   "name": "python3"
  },
  "language_info": {
   "codemirror_mode": {
    "name": "ipython",
    "version": 3
   },
   "file_extension": ".py",
   "mimetype": "text/x-python",
   "name": "python",
   "nbconvert_exporter": "python",
   "pygments_lexer": "ipython3",
   "version": "3.7.6"
  }
 },
 "nbformat": 4,
 "nbformat_minor": 4
}
